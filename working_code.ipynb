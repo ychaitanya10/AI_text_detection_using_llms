{
 "cells": [
  {
   "cell_type": "markdown",
   "metadata": {},
   "source": [
    "## Data Loading "
   ]
  },
  {
   "cell_type": "code",
   "execution_count": 1,
   "metadata": {},
   "outputs": [],
   "source": [
    "import pandas as pd"
   ]
  },
  {
   "cell_type": "code",
   "execution_count": 2,
   "metadata": {},
   "outputs": [],
   "source": [
    "dataset_path='working_file.csv'\n",
    "df1 = pd.read_csv(dataset_path)"
   ]
  },
  {
   "cell_type": "code",
   "execution_count": 3,
   "metadata": {},
   "outputs": [
    {
     "data": {
      "text/html": [
       "<div>\n",
       "<style scoped>\n",
       "    .dataframe tbody tr th:only-of-type {\n",
       "        vertical-align: middle;\n",
       "    }\n",
       "\n",
       "    .dataframe tbody tr th {\n",
       "        vertical-align: top;\n",
       "    }\n",
       "\n",
       "    .dataframe thead th {\n",
       "        text-align: right;\n",
       "    }\n",
       "</style>\n",
       "<table border=\"1\" class=\"dataframe\">\n",
       "  <thead>\n",
       "    <tr style=\"text-align: right;\">\n",
       "      <th></th>\n",
       "      <th>text</th>\n",
       "      <th>label</th>\n",
       "    </tr>\n",
       "  </thead>\n",
       "  <tbody>\n",
       "    <tr>\n",
       "      <th>0</th>\n",
       "      <td>phones  modern humans today are always on thei...</td>\n",
       "      <td>0</td>\n",
       "    </tr>\n",
       "    <tr>\n",
       "      <th>1</th>\n",
       "      <td>this essay will explain if drivers should or s...</td>\n",
       "      <td>0</td>\n",
       "    </tr>\n",
       "    <tr>\n",
       "      <th>2</th>\n",
       "      <td>driving while the use of cellular devices  tod...</td>\n",
       "      <td>0</td>\n",
       "    </tr>\n",
       "    <tr>\n",
       "      <th>3</th>\n",
       "      <td>d are likelphones and driving  drivers should ...</td>\n",
       "      <td>0</td>\n",
       "    </tr>\n",
       "    <tr>\n",
       "      <th>4</th>\n",
       "      <td>cell phone operation while driving  the abilit...</td>\n",
       "      <td>0</td>\n",
       "    </tr>\n",
       "  </tbody>\n",
       "</table>\n",
       "</div>"
      ],
      "text/plain": [
       "                                                text  label\n",
       "0  phones  modern humans today are always on thei...      0\n",
       "1  this essay will explain if drivers should or s...      0\n",
       "2  driving while the use of cellular devices  tod...      0\n",
       "3  d are likelphones and driving  drivers should ...      0\n",
       "4  cell phone operation while driving  the abilit...      0"
      ]
     },
     "execution_count": 3,
     "metadata": {},
     "output_type": "execute_result"
    }
   ],
   "source": [
    "df1.head()"
   ]
  },
  {
   "cell_type": "code",
   "execution_count": 4,
   "metadata": {},
   "outputs": [
    {
     "name": "stdout",
     "output_type": "stream",
     "text": [
      "<class 'pandas.core.frame.DataFrame'>\n",
      "RangeIndex: 75115 entries, 0 to 75114\n",
      "Data columns (total 2 columns):\n",
      " #   Column  Non-Null Count  Dtype \n",
      "---  ------  --------------  ----- \n",
      " 0   text    75115 non-null  object\n",
      " 1   label   75115 non-null  int64 \n",
      "dtypes: int64(1), object(1)\n",
      "memory usage: 1.1+ MB\n"
     ]
    }
   ],
   "source": [
    "df1.info()"
   ]
  },
  {
   "cell_type": "markdown",
   "metadata": {},
   "source": [
    "## Data Visualization"
   ]
  },
  {
   "cell_type": "code",
   "execution_count": 5,
   "metadata": {},
   "outputs": [
    {
     "data": {
      "image/png": "[encoded data removed]",
      "text/plain": [
       "<Figure size 800x600 with 1 Axes>"
      ]
     },
     "metadata": {},
     "output_type": "display_data"
    }
   ],
   "source": [
    "import matplotlib.pyplot as plt\n",
    "import seaborn as sns\n",
    "\n",
    "# Assuming your DataFrame has a column named 'label' containing 0 and 1\n",
    "plt.figure(figsize=(8, 6))\n",
    "sns.countplot(x='label', data=df1)\n",
    "plt.title('Class Distribution')\n",
    "plt.xlabel('Class Label')\n",
    "plt.ylabel('Count')\n",
    "plt.xticks(ticks=[0, 1], labels=['Class 0', 'Class 1'])\n",
    "plt.show()"
   ]
  },
  {
   "cell_type": "code",
   "execution_count": 6,
   "metadata": {},
   "outputs": [],
   "source": [
    "import re\n",
    "import unicodedata"
   ]
  },
  {
   "cell_type": "code",
   "execution_count": 7,
   "metadata": {},
   "outputs": [],
   "source": [
    "def preprocess_text(text):\n",
    "    text = unicodedata.normalize('NFKC', text)\n",
    "    text = text.lower()\n",
    "    text = re.sub(r'@\\w+', '', text)\n",
    "    text = text.replace('\\n', ' ')\n",
    "    text = text.replace('&', 'and')\n",
    "    \n",
    "    return text"
   ]
  },
  {
   "cell_type": "code",
   "execution_count": 8,
   "metadata": {},
   "outputs": [
    {
     "data": {
      "text/html": [
       "<div>\n",
       "<style scoped>\n",
       "    .dataframe tbody tr th:only-of-type {\n",
       "        vertical-align: middle;\n",
       "    }\n",
       "\n",
       "    .dataframe tbody tr th {\n",
       "        vertical-align: top;\n",
       "    }\n",
       "\n",
       "    .dataframe thead th {\n",
       "        text-align: right;\n",
       "    }\n",
       "</style>\n",
       "<table border=\"1\" class=\"dataframe\">\n",
       "  <thead>\n",
       "    <tr style=\"text-align: right;\">\n",
       "      <th></th>\n",
       "      <th>text</th>\n",
       "      <th>label</th>\n",
       "    </tr>\n",
       "  </thead>\n",
       "  <tbody>\n",
       "    <tr>\n",
       "      <th>0</th>\n",
       "      <td>phones  modern humans today are always on thei...</td>\n",
       "      <td>0</td>\n",
       "    </tr>\n",
       "    <tr>\n",
       "      <th>1</th>\n",
       "      <td>this essay will explain if drivers should or s...</td>\n",
       "      <td>0</td>\n",
       "    </tr>\n",
       "    <tr>\n",
       "      <th>2</th>\n",
       "      <td>driving while the use of cellular devices  tod...</td>\n",
       "      <td>0</td>\n",
       "    </tr>\n",
       "    <tr>\n",
       "      <th>3</th>\n",
       "      <td>d are likelphones and driving  drivers should ...</td>\n",
       "      <td>0</td>\n",
       "    </tr>\n",
       "    <tr>\n",
       "      <th>4</th>\n",
       "      <td>cell phone operation while driving  the abilit...</td>\n",
       "      <td>0</td>\n",
       "    </tr>\n",
       "  </tbody>\n",
       "</table>\n",
       "</div>"
      ],
      "text/plain": [
       "                                                text  label\n",
       "0  phones  modern humans today are always on thei...      0\n",
       "1  this essay will explain if drivers should or s...      0\n",
       "2  driving while the use of cellular devices  tod...      0\n",
       "3  d are likelphones and driving  drivers should ...      0\n",
       "4  cell phone operation while driving  the abilit...      0"
      ]
     },
     "execution_count": 8,
     "metadata": {},
     "output_type": "execute_result"
    }
   ],
   "source": [
    "df1['text'] = df1['text'].apply(preprocess_text)\n",
    "\n",
    "df1_updated = df1.head()\n",
    "df1_updated"
   ]
  },
  {
   "cell_type": "code",
   "execution_count": 9,
   "metadata": {},
   "outputs": [
    {
     "name": "stdout",
     "output_type": "stream",
     "text": [
      "Number of null values in text: 0\n",
      "Number of duplicate values in text: 9019\n"
     ]
    },
    {
     "data": {
      "text/html": [
       "<div>\n",
       "<style scoped>\n",
       "    .dataframe tbody tr th:only-of-type {\n",
       "        vertical-align: middle;\n",
       "    }\n",
       "\n",
       "    .dataframe tbody tr th {\n",
       "        vertical-align: top;\n",
       "    }\n",
       "\n",
       "    .dataframe thead th {\n",
       "        text-align: right;\n",
       "    }\n",
       "</style>\n",
       "<table border=\"1\" class=\"dataframe\">\n",
       "  <thead>\n",
       "    <tr style=\"text-align: right;\">\n",
       "      <th></th>\n",
       "      <th>text</th>\n",
       "      <th>label</th>\n",
       "    </tr>\n",
       "  </thead>\n",
       "  <tbody>\n",
       "    <tr>\n",
       "      <th>0</th>\n",
       "      <td>phones  modern humans today are always on thei...</td>\n",
       "      <td>0</td>\n",
       "    </tr>\n",
       "    <tr>\n",
       "      <th>1</th>\n",
       "      <td>this essay will explain if drivers should or s...</td>\n",
       "      <td>0</td>\n",
       "    </tr>\n",
       "    <tr>\n",
       "      <th>2</th>\n",
       "      <td>driving while the use of cellular devices  tod...</td>\n",
       "      <td>0</td>\n",
       "    </tr>\n",
       "    <tr>\n",
       "      <th>3</th>\n",
       "      <td>d are likelphones and driving  drivers should ...</td>\n",
       "      <td>0</td>\n",
       "    </tr>\n",
       "    <tr>\n",
       "      <th>4</th>\n",
       "      <td>cell phone operation while driving  the abilit...</td>\n",
       "      <td>0</td>\n",
       "    </tr>\n",
       "  </tbody>\n",
       "</table>\n",
       "</div>"
      ],
      "text/plain": [
       "                                                text  label\n",
       "0  phones  modern humans today are always on thei...      0\n",
       "1  this essay will explain if drivers should or s...      0\n",
       "2  driving while the use of cellular devices  tod...      0\n",
       "3  d are likelphones and driving  drivers should ...      0\n",
       "4  cell phone operation while driving  the abilit...      0"
      ]
     },
     "execution_count": 9,
     "metadata": {},
     "output_type": "execute_result"
    }
   ],
   "source": [
    "null_values = df1['text'].isnull().sum()\n",
    "print(f\"Number of null values in text: {null_values}\")\n",
    "\n",
    "duplicate_values = df1['text'].duplicated().sum()\n",
    "print(f\"Number of duplicate values in text: {duplicate_values}\")\n",
    "\n",
    "df1 = df1.dropna(subset=['text'])\n",
    "df1 = df1.drop_duplicates(subset=['text'])\n",
    "\n",
    "df1.head()"
   ]
  },
  {
   "cell_type": "code",
   "execution_count": 10,
   "metadata": {},
   "outputs": [
    {
     "data": {
      "text/html": [
       "<div>\n",
       "<style scoped>\n",
       "    .dataframe tbody tr th:only-of-type {\n",
       "        vertical-align: middle;\n",
       "    }\n",
       "\n",
       "    .dataframe tbody tr th {\n",
       "        vertical-align: top;\n",
       "    }\n",
       "\n",
       "    .dataframe thead th {\n",
       "        text-align: right;\n",
       "    }\n",
       "</style>\n",
       "<table border=\"1\" class=\"dataframe\">\n",
       "  <thead>\n",
       "    <tr style=\"text-align: right;\">\n",
       "      <th></th>\n",
       "      <th>text</th>\n",
       "      <th>text_length</th>\n",
       "    </tr>\n",
       "  </thead>\n",
       "  <tbody>\n",
       "    <tr>\n",
       "      <th>0</th>\n",
       "      <td>phones  modern humans today are always on thei...</td>\n",
       "      <td>379</td>\n",
       "    </tr>\n",
       "    <tr>\n",
       "      <th>1</th>\n",
       "      <td>this essay will explain if drivers should or s...</td>\n",
       "      <td>366</td>\n",
       "    </tr>\n",
       "    <tr>\n",
       "      <th>2</th>\n",
       "      <td>driving while the use of cellular devices  tod...</td>\n",
       "      <td>178</td>\n",
       "    </tr>\n",
       "    <tr>\n",
       "      <th>3</th>\n",
       "      <td>d are likelphones and driving  drivers should ...</td>\n",
       "      <td>212</td>\n",
       "    </tr>\n",
       "    <tr>\n",
       "      <th>4</th>\n",
       "      <td>cell phone operation while driving  the abilit...</td>\n",
       "      <td>332</td>\n",
       "    </tr>\n",
       "  </tbody>\n",
       "</table>\n",
       "</div>"
      ],
      "text/plain": [
       "                                                text  text_length\n",
       "0  phones  modern humans today are always on thei...          379\n",
       "1  this essay will explain if drivers should or s...          366\n",
       "2  driving while the use of cellular devices  tod...          178\n",
       "3  d are likelphones and driving  drivers should ...          212\n",
       "4  cell phone operation while driving  the abilit...          332"
      ]
     },
     "execution_count": 10,
     "metadata": {},
     "output_type": "execute_result"
    }
   ],
   "source": [
    "df1['text_length'] = df1['text'].apply(lambda x: len(x.split()))\n",
    "df1[['text', 'text_length']].head()"
   ]
  },
  {
   "cell_type": "code",
   "execution_count": 11,
   "metadata": {},
   "outputs": [],
   "source": [
    "df1.to_csv('text_length_output.csv',index=False)"
   ]
  },
  {
   "cell_type": "code",
   "execution_count": 12,
   "metadata": {},
   "outputs": [
    {
     "data": {
      "image/png": "[encoded data removed]",
      "text/plain": [
       "<Figure size 1000x600 with 1 Axes>"
      ]
     },
     "metadata": {},
     "output_type": "display_data"
    }
   ],
   "source": [
    "import seaborn as sns\n",
    "import matplotlib.pyplot as plt\n",
    "\n",
    "plt.figure(figsize=(10, 6))\n",
    "sns.histplot(df1['text_length'], bins=30, kde=True)\n",
    "plt.title('Text Length Distribution')\n",
    "plt.xlabel('Number of Words')\n",
    "plt.ylabel('Frequency')\n",
    "plt.show()"
   ]
  },
  {
   "cell_type": "code",
   "execution_count": null,
   "metadata": {},
   "outputs": [],
   "source": []
  },
  {
   "cell_type": "markdown",
   "metadata": {},
   "source": [
    "# TFBert Model"
   ]
  },
  {
   "cell_type": "markdown",
   "metadata": {},
   "source": [
    "#### Main model"
   ]
  },
  {
   "cell_type": "code",
   "execution_count": 13,
   "metadata": {},
   "outputs": [],
   "source": [
    "# from transformers import BertTokenizer, TFBertModel\n",
    "# from tensorflow.keras.optimizers import Adam\n",
    "\n",
    "# # Enable mixed precision if supported\n",
    "# tf.keras.mixed_precision.set_global_policy('mixed_float16')\n",
    "\n",
    "# # Configure GPU\n",
    "# gpus = tf.config.list_physical_devices('GPU')\n",
    "# if gpus:\n",
    "#     try:\n",
    "#         # Restrict TensorFlow to only use the first GPU\n",
    "#         tf.config.set_visible_devices(gpus[0], 'GPU')\n",
    "\n",
    "#         # Restrict TensorFlow to only allocate a fraction of the GPU memory\n",
    "#         tf.config.experimental.set_memory_growth(gpus[0], True)\n",
    "#     except RuntimeError as e:\n",
    "#         print(e)\n",
    "\n",
    "# # Load pre-trained model and tokenizer\n",
    "# tokenizer = BertTokenizer.from_pretrained('bert-base-uncased')\n",
    "# base_model = TFBertModel.from_pretrained('bert-base-uncased', from_pt=True)  # Load from PyTorch weights\n",
    "\n",
    "# # Freeze the layers to prevent fine-tuning\n",
    "# base_model.trainable = False\n",
    "\n",
    "# # Define the custom model\n",
    "# class CustomModel(tf.keras.Model):\n",
    "#     def _init_(self, base_model):\n",
    "#         super(CustomModel, self)._init_()\n",
    "#         self.base_model = base_model\n",
    "#         self.dense1 = tf.keras.layers.Dense(256, activation='relu')\n",
    "#         self.dense2 = tf.keras.layers.Dense(128, activation='relu')\n",
    "#         self.dense3 = tf.keras.layers.Dense(64, activation='relu')\n",
    "#         self.output_layer = tf.keras.layers.Dense(2, activation='softmax')  # Example for 2 classes\n",
    "\n",
    "#     def call(self, inputs):\n",
    "#         # Extract input ids and attention masks from the inputs dictionary\n",
    "#         input_ids = inputs['input_ids']\n",
    "#         attention_mask = inputs['attention_mask']\n",
    "        \n",
    "#         # Forward pass through the base model\n",
    "#         base_outputs = self.base_model(input_ids, attention_mask=attention_mask, training=False)\n",
    "        \n",
    "#         # Get the last hidden state from the base model outputs\n",
    "#         hidden_states = base_outputs.last_hidden_state\n",
    "        \n",
    "#         # Use the [CLS] token output\n",
    "#         cls_output = hidden_states[:, 0, :]  # Extract the [CLS] token representation\n",
    "        \n",
    "#         # Pass through the dense layers\n",
    "#         x = self.dense1(cls_output)\n",
    "#         x = self.dense2(x)\n",
    "#         x = self.dense3(x)\n",
    "        \n",
    "#         # Get final logits\n",
    "#         logits = self.output_layer(x)\n",
    "#         return logits\n",
    "\n",
    "# # Instantiate the custom model\n",
    "# custom_model = CustomModel(base_model)\n",
    "\n",
    "# # Example text\n",
    "# input_text = df1['text'].tolist()\n",
    "\n",
    "# # Tokenize and encode the text\n",
    "# inputs = tokenizer(input_text, return_tensors='tf', padding=True, truncation=True, max_length=256)\n",
    "\n",
    "# # Convert the tokenizer output to a suitable input format for the model\n",
    "# input_ids = inputs['input_ids']\n",
    "# attention_mask = inputs['attention_mask']\n",
    "\n",
    "# # Define the model inputs\n",
    "# model_inputs = {'input_ids': input_ids, 'attention_mask': attention_mask}\n",
    "\n",
    "# # Compile the model with the standard Adam optimizer\n",
    "# optimizer = Adam(learning_rate=1e-5)\n",
    "# custom_model.compile(optimizer=optimizer, loss='sparse_categorical_crossentropy', metrics=['accuracy'])\n",
    "\n",
    "# # Convert labels to TensorFlow tensor\n",
    "# labels = tf.convert_to_tensor(df1['label'].values)  # Example: 0 for human-generated, 1 for machine-generated\n",
    "\n",
    "# # Train the model with a smaller batch size if memory is an issue\n",
    "# custom_model.fit(x={'input_ids': input_ids, 'attention_mask': attention_mask}, y=labels, batch_size=2, epochs=3, verbose=1)  # Adjust epochs and batch size as needed"
   ]
  },
  {
   "cell_type": "markdown",
   "metadata": {},
   "source": [
    "#### Model saving"
   ]
  },
  {
   "cell_type": "code",
   "execution_count": 14,
   "metadata": {},
   "outputs": [],
   "source": [
    "# # Save the model using TensorFlow SavedModel formata\n",
    "# custom_model.save('C:/Users/chait/Project-1/bert_custom_model', save_format='tf')"
   ]
  },
  {
   "cell_type": "markdown",
   "metadata": {},
   "source": [
    "#### Model Loading"
   ]
  },
  {
   "cell_type": "code",
   "execution_count": 27,
   "metadata": {},
   "outputs": [],
   "source": [
    "# loaded_model = tf.keras.models.load_model('C:/Users/chait/Project-1/bert_custom_model', custom_objects={'TFBertModel': TFBertModel})"
   ]
  },
  {
   "cell_type": "markdown",
   "metadata": {},
   "source": [
    "#### Prediction using the Loaded Model"
   ]
  },
  {
   "cell_type": "code",
   "execution_count": 28,
   "metadata": {},
   "outputs": [
    {
     "name": "stdout",
     "output_type": "stream",
     "text": [
      "Signature: serving_default\n",
      "((), {'attention_mask': TensorSpec(shape=(None, 256), dtype=tf.int32, name='attention_mask'), 'input_ids': TensorSpec(shape=(None, 256), dtype=tf.int32, name='input_ids')})\n"
     ]
    }
   ],
   "source": [
    "# for key, value in loaded_model.signatures.items():\n",
    "#     print(f\"Signature: {key}\")\n",
    "#     print(value.structured_input_signature)\n"
   ]
  },
  {
   "cell_type": "code",
   "execution_count": 42,
   "metadata": {},
   "outputs": [
    {
     "name": "stdout",
     "output_type": "stream",
     "text": [
      "1/1 [==============================] - 0s 408ms/step\n",
      "Text 1: \n",
      "Class 0: 98.94%\n",
      "Class 1: 1.11%\n",
      "\n"
     ]
    }
   ],
   "source": [
    "# def predict_new_text(text_list):\n",
    "#     # Tokenize and encode the new text\n",
    "#     new_inputs = tokenizer(text_list, return_tensors='tf', padding='max_length', truncation=True, max_length=256)\n",
    "    \n",
    "#     # Prepare input dictionary\n",
    "#     model_inputs = {\n",
    "#         'input_ids': new_inputs['input_ids'],\n",
    "#         'attention_mask': new_inputs['attention_mask']\n",
    "#     }\n",
    "    \n",
    "#     # Predict the class probabilities\n",
    "#     predictions = loaded_model.predict(model_inputs)\n",
    "    \n",
    "#     # Convert probabilities to percentages\n",
    "#     percentage_probabilities = predictions * 100\n",
    "    \n",
    "#     # Format the output\n",
    "#     formatted_output = []\n",
    "#     for i, probs in enumerate(percentage_probabilities):\n",
    "#         formatted_str = \"Text {}: \\n\".format(i + 1)\n",
    "#         for j, prob in enumerate(probs):\n",
    "#             formatted_str += \"Class {}: {:.2f}%\\n\".format(j, prob)\n",
    "#         formatted_output.append(formatted_str)\n",
    "    \n",
    "#     return formatted_output\n",
    "\n",
    "# # Example new text to predict\n",
    "# new_text = ['''HERMIA and Lysander were lovers; but\n",
    "# Hermia’s father wished her to marry another man,\n",
    "# named Demetrius.\n",
    "# Now, in Athens, where they lived, there was a\n",
    "# wicked law, by which any girl who refused to marry\n",
    "# according to her father’s wishes, might be put to\n",
    "# death. Hermia’s father was so angry with her for\n",
    "# refusing to do as he wished, that he actually brought\n",
    "# her before the Duke of Athens to ask that she might\n",
    "# be killed, if she still refused to obey him. The Duke\n",
    "# gave her four days to think about it, and, at the end\n",
    "# of that time, if she still refused to marry Demetrius,\n",
    "# she would have to die.\n",
    "# Lysander of course was nearly mad with grief,\n",
    "# and the best thing to do seemed to him for Hermia\n",
    "# to run away to his aunt’s house at a place beyond the\n",
    "# reach of that cruel law; and there he would come to\n",
    "# her and marry her. But before she started, she told\n",
    "# her friend, Helena, what she was going to do.\n",
    "# Helena had been Demetrius’ sweetheart long\n",
    "# before his marriage with Hermia had been thought\n",
    "# of, and being very silly, like all jealous people, she \n",
    "# BEAUTIFUL STORIES FROM SHAKESPEARE\n",
    "# 2\n",
    "# could not see that it was not poor Hermia’s fault that\n",
    "# Demetrius wished to marry her instead of his own\n",
    "# lady, Helena. She knew that if she told Demetrius\n",
    "# that Hermia was going, as she was, to the wood\n",
    "# outside Athens, he would follow her, “and I can\n",
    "# follow him, and at least I shall see him,” she said to\n",
    "# herself. So she went to him, and betrayed her\n",
    "# friend’s secret.\n",
    "# Now this wood where\n",
    "# Lysander was to\n",
    "# meet Hermia,\n",
    "# and where the\n",
    "# other two had\n",
    "# decided to follow them, was\n",
    "# full of fairies,\n",
    "# as most woods\n",
    "# are, if one\n",
    "# only had the\n",
    "# eyes to see\n",
    "# them, and in this wood\n",
    "# on this night were the\n",
    "# King and Queen of the\n",
    "# fairies, Oberon and\n",
    "# Titania. Now fairies\n",
    "# are very wise people,\n",
    "# but now and then\n",
    "# they can be quite as\n",
    "# foolish as mortal\n",
    "# folk. Oberon and\n",
    "# Titania, who might\n",
    "# have been as happy\n",
    "# TITANIA: THE QUEEN OF\n",
    "# THE FAIRIES\n",
    "# A MIDSUMMER NIGHT’S DREAM\n",
    "#  3\n",
    "# as the days were long, had thrown away all their joy\n",
    "# in a foolish quarrel. They never met without saying\n",
    "# disagreeable things to each other, and scolded each\n",
    "# other so dreadfully that all their little fairy followers,\n",
    "# for fear, would creep into acorn cups and hide them\n",
    "# there.\n",
    "# So, instead of keeping one happy Court and\n",
    "# dancing all night through in the moonlight as is\n",
    "# fairies’ use, the King with his attendants wandered\n",
    "# through one part of the wood, while the Queen with\n",
    "# hers kept state in another. And the cause of all this\n",
    "# trouble was a little Indian boy whom Titania had\n",
    "# taken to be one of her followers. Oberon wanted the\n",
    "# child to follow him and be one of his fairy knights;\n",
    "# but the Queen would not give him up.\n",
    "# On this night, in a mossy moonlit glade, the\n",
    "# King and Queen of the fairies met.\n",
    "# “Ill met by moonlight, proud Titania,” said\n",
    "# the King.\n",
    "# “What! jealous, Oberon?” answered the\n",
    "# Queen. “You spoil everything with your quarreling.\n",
    "# Come, fairies, let us leave him. I am not friends with\n",
    "# him now.”\n",
    "# “It rests with you to make up the quarrel,”\n",
    "# said the King.\n",
    "# “Give me that little Indian boy, and I will\n",
    "# again be your humble servant and suitor.”\n",
    "# “Set your mind at rest,” said the Queen.\n",
    "# “Your whole fairy kingdom buys not that boy from\n",
    "# me. Come, fairies.” \n",
    "# BEAUTIFUL STORIES FROM SHAKESPEARE\n",
    "# 4\n",
    "# And she and her train rode off down the\n",
    "# moonbeams.\n",
    "#  “Well, go your\n",
    "# ways,” said Oberon.\n",
    "# “But I’ll be even with\n",
    "# you before you leave\n",
    "# this wood.”\n",
    "# Then Oberon\n",
    "# called his favorite\n",
    "# fairy, Puck. Puck\n",
    "# was the spirit of\n",
    "# mischief. He used\n",
    "# to slip into the\n",
    "# dairies and take\n",
    "# the cream away,\n",
    "# and get into the\n",
    "# churn so that the\n",
    "# butter would not come, and turn the beer sour, and\n",
    "# lead people out of their way on dark nights and then\n",
    "# laugh at them, and tumble people’s stools from\n",
    "# under them when they were going to sit down, and\n",
    "# upset their hot ale over their chins when they were\n",
    "# going to drink.\n",
    "# “Now,” said Oberon to this little sprite,\n",
    "# “fetch me the flower called Love-in-idleness. The\n",
    "# juice of that little purple flower laid on the eyes of\n",
    "# those who sleep will make them, when they wake, to\n",
    "# love the first thing they see. I will put some of the\n",
    "# juice of that flower on my Titania’s eyes, and when\n",
    "# she wakes she will love the first thing she sees, were\n",
    "# THE QUARREL\n",
    "# A MIDSUMMER NIGHT’S DREAM\n",
    "#  5\n",
    "# it lion, bear, or wolf, or bull, or meddling monkey, or\n",
    "# a busy ape.”''']\n",
    "# # Predict the class probabilities for the new text\n",
    "# formatted_probabilities = predict_new_text(new_text)\n",
    "# print(\"\\n\".join(formatted_probabilities))\n"
   ]
  },
  {
   "cell_type": "markdown",
   "metadata": {},
   "source": [
    "# ROBERTa"
   ]
  },
  {
   "cell_type": "markdown",
   "metadata": {},
   "source": [
    "#### Main model"
   ]
  },
  {
   "cell_type": "code",
   "execution_count": 17,
   "metadata": {},
   "outputs": [],
   "source": [
    "# import tensorflow as tf\n",
    "# from transformers import RobertaTokenizer, TFRobertaModel\n",
    "# from tensorflow.keras.optimizers import Adam\n",
    "\n",
    "# # Enable mixed precision if supported\n",
    "# tf.keras.mixed_precision.set_global_policy('mixed_float16')\n",
    "\n",
    "# # Configure GPU\n",
    "# gpus = tf.config.list_physical_devices('GPU')\n",
    "# if gpus:\n",
    "#     try:\n",
    "#         # Restrict TensorFlow to only use the first GPU\n",
    "#         tf.config.set_visible_devices(gpus[0], 'GPU')\n",
    "\n",
    "#         # Restrict TensorFlow to only allocate a fraction of the GPU memory\n",
    "#         tf.config.experimental.set_memory_growth(gpus[0], True)\n",
    "#     except RuntimeError as e:\n",
    "#         print(e)\n",
    "\n",
    "# # Load pre-trained model and tokenizer\n",
    "# tokenizer = RobertaTokenizer.from_pretrained('roberta-base')\n",
    "# base_model = TFRobertaModel.from_pretrained('roberta-base', from_pt=True)  # Load from PyTorch weights\n",
    "\n",
    "# # Freeze the layers to prevent fine-tuning\n",
    "# base_model.trainable = False\n",
    "\n",
    "# # Define the custom model\n",
    "# class CustomModel(tf.keras.Model):\n",
    "#     def __init__(self, base_model):\n",
    "#         super(CustomModel, self).__init__()\n",
    "#         self.base_model = base_model\n",
    "#         self.dense1 = tf.keras.layers.Dense(256, activation='relu')\n",
    "#         self.dense2 = tf.keras.layers.Dense(128, activation='relu')\n",
    "#         self.dense3 = tf.keras.layers.Dense(64, activation='relu')\n",
    "#         self.output_layer = tf.keras.layers.Dense(2, activation='softmax')  # Example for 2 classes\n",
    "\n",
    "#     def call(self, inputs):\n",
    "#         # Extract input ids and attention masks from the inputs dictionary\n",
    "#         input_ids = inputs['input_ids']\n",
    "#         attention_mask = inputs['attention_mask']\n",
    "        \n",
    "#         # Forward pass through the base model\n",
    "#         base_outputs = self.base_model(input_ids, attention_mask=attention_mask, training=False)\n",
    "        \n",
    "#         # Get the last hidden state from the base model outputs\n",
    "#         hidden_states = base_outputs.last_hidden_state\n",
    "        \n",
    "#         # Use the last token output\n",
    "#         cls_output = hidden_states[:, -1, :]  # Extract the last token representation\n",
    "        \n",
    "#         # Pass through the dense layers\n",
    "#         x = self.dense1(cls_output)\n",
    "#         x = self.dense2(x)\n",
    "#         x = self.dense3(x)\n",
    "        \n",
    "#         # Get final logits\n",
    "#         logits = self.output_layer(x)\n",
    "#         return logits\n",
    "\n",
    "# # Instantiate the custom model\n",
    "# custom_model = CustomModel(base_model)\n",
    "\n",
    "# # Example text\n",
    "# input_text = df1['text'].tolist()\n",
    "\n",
    "# # Tokenize and encode the text\n",
    "# inputs = tokenizer(input_text, return_tensors='tf', padding=True, truncation=True, max_length=256)\n",
    "\n",
    "# # Convert the tokenizer output to a suitable input format for the model\n",
    "# input_ids = inputs['input_ids']\n",
    "# attention_mask = inputs['attention_mask']\n",
    "\n",
    "# # Define the model inputs\n",
    "# model_inputs = {'input_ids': input_ids, 'attention_mask': attention_mask}\n",
    "\n",
    "# # Compile the model with the standard Adam optimizer\n",
    "# optimizer = Adam(learning_rate=1e-5)\n",
    "# custom_model.compile(optimizer=optimizer, loss='sparse_categorical_crossentropy', metrics=['accuracy'])\n",
    "\n",
    "# # Convert labels to TensorFlow tensor\n",
    "# labels = tf.convert_to_tensor(df1['label'].values)  # Example: 0 for human-generated, 1 for machine-generated\n",
    "\n",
    "# # Train the model with a smaller batch size if memory is an issue\n",
    "# custom_model.fit(x=model_inputs, y=labels, batch_size=2, epochs=3, verbose=1)  # Adjust epochs and batch size as needed"
   ]
  },
  {
   "cell_type": "markdown",
   "metadata": {},
   "source": [
    "#### Model saving"
   ]
  },
  {
   "cell_type": "code",
   "execution_count": 18,
   "metadata": {},
   "outputs": [],
   "source": [
    "# # Save the model using TensorFlow SavedModel format\n",
    "# custom_model.save('C:/Users/chait/Project-1/Roberta_custom_model', save_format='tf')"
   ]
  },
  {
   "cell_type": "markdown",
   "metadata": {},
   "source": [
    "#### Loading the model"
   ]
  },
  {
   "cell_type": "code",
   "execution_count": 19,
   "metadata": {},
   "outputs": [],
   "source": [
    "# import tensorflow as tf\n",
    "# from transformers import RobertaTokenizer, TFRobertaModel\n",
    "\n",
    "# # Load the saved model from the specified path\n",
    "# loaded_model = tf.keras.models.load_model('C:/Users/chait/Project-1/Roberta_custom_model', custom_objects={'TFBertModel': TFBertModel})\n",
    "\n",
    "# # Ensure that the tokenizer is the same as the one used during training\n",
    "# tokenizer = RobertaTokenizer.from_pretrained('bert-base-uncased')"
   ]
  },
  {
   "cell_type": "markdown",
   "metadata": {},
   "source": [
    "#### Using Loaded model for prediction"
   ]
  },
  {
   "cell_type": "code",
   "execution_count": 20,
   "metadata": {},
   "outputs": [],
   "source": [
    "# def predict_new_text(text_list):\n",
    "#     # Tokenize and encode the new text\n",
    "#     new_inputs = tokenizer(text_list, return_tensors='tf', padding=True, truncation=True, max_length=256)\n",
    "    \n",
    "#     # Prepare input dictionary\n",
    "#     model_inputs = {\n",
    "#         'input_ids': new_inputs['input_ids'],\n",
    "#         'attention_mask': new_inputs['attention_mask']\n",
    "#     }\n",
    "    \n",
    "#     # Predict the class probabilities\n",
    "#     predictions = loaded_model.predict(model_inputs)\n",
    "    \n",
    "#     # Get the predicted class\n",
    "#     predicted_classes = tf.argmax(predictions, axis=1).numpy()\n",
    "    \n",
    "#     return predicted_classes\n",
    "\n",
    "# # Example new text to predict\n",
    "# new_text = [''' ''']\n",
    "\n",
    "# # Predict the class for the new text\n",
    "# predicted_classes = predict_new_text(new_text)\n",
    "# print(predicted_classes)"
   ]
  },
  {
   "cell_type": "markdown",
   "metadata": {},
   "source": [
    "# GPT-2"
   ]
  },
  {
   "cell_type": "code",
   "execution_count": null,
   "metadata": {},
   "outputs": [
    {
     "name": "stdout",
     "output_type": "stream",
     "text": [
      "Using device: cuda\n"
     ]
    },
    {
     "name": "stderr",
     "output_type": "stream",
     "text": [
      "C:\\Users\\chait\\AppData\\Roaming\\Python\\Python312\\site-packages\\transformers\\tokenization_utils_base.py:1601: FutureWarning: `clean_up_tokenization_spaces` was not set. It will be set to `True` by default. This behavior will be depracted in transformers v4.45, and will be then set to `False` by default. For more details check this issue: https://github.com/huggingface/transformers/issues/31884\n",
      "  warnings.warn(\n"
     ]
    },
    {
     "name": "stdout",
     "output_type": "stream",
     "text": [
      "Padding Token: <|endoftext|>\n"
     ]
    },
    {
     "data": {
      "application/vnd.jupyter.widget-view+json": {
       "model_id": "9d65a49485c744abaa71c206da033d53",
       "version_major": 2,
       "version_minor": 0
      },
      "text/plain": [
       "Map:   0%|          | 0/52876 [00:00<?, ? examples/s]"
      ]
     },
     "metadata": {},
     "output_type": "display_data"
    },
    {
     "data": {
      "application/vnd.jupyter.widget-view+json": {
       "model_id": "9a362ed883fd429f89ca92774b767980",
       "version_major": 2,
       "version_minor": 0
      },
      "text/plain": [
       "Map:   0%|          | 0/13220 [00:00<?, ? examples/s]"
      ]
     },
     "metadata": {},
     "output_type": "display_data"
    },
    {
     "name": "stderr",
     "output_type": "stream",
     "text": [
      "The `load_in_4bit` and `load_in_8bit` arguments are deprecated and will be removed in the future versions. Please, pass a `BitsAndBytesConfig` object in `quantization_config` argument instead.\n",
      "`low_cpu_mem_usage` was None, now set to True since model is quantized.\n",
      "Some weights of GPT2ForSequenceClassification were not initialized from the model checkpoint at gpt2 and are newly initialized: ['score.weight']\n",
      "You should probably TRAIN this model on a down-stream task to be able to use it for predictions and inference.\n",
      "C:\\Users\\chait\\AppData\\Roaming\\Python\\Python312\\site-packages\\accelerate\\accelerator.py:494: FutureWarning: `torch.cuda.amp.GradScaler(args...)` is deprecated. Please use `torch.amp.GradScaler('cuda', args...)` instead.\n",
      "  self.scaler = torch.cuda.amp.GradScaler(**kwargs)\n",
      "C:\\Users\\chait\\AppData\\Roaming\\Python\\Python312\\site-packages\\bitsandbytes\\autograd\\_functions.py:316: UserWarning: MatMul8bitLt: inputs will be cast from torch.float32 to float16 during quantization\n",
      "  warnings.warn(f\"MatMul8bitLt: inputs will be cast from {A.dtype} to float16 during quantization\")\n",
      "C:\\Users\\chait\\AppData\\Roaming\\Python\\Python312\\site-packages\\transformers\\models\\gpt2\\modeling_gpt2.py:544: UserWarning: 1Torch was not compiled with flash attention. (Triggered internally at C:\\cb\\pytorch_1000000000000\\work\\aten\\src\\ATen\\native\\transformers\\cuda\\sdp_utils.cpp:555.)\n",
      "  attn_output = torch.nn.functional.scaled_dot_product_attention(\n"
     ]
    },
    {
     "data": {
      "text/html": [
       "\n",
       "    <div>\n",
       "      \n",
       "      <progress value='1764' max='26438' style='width:300px; height:20px; vertical-align: middle;'></progress>\n",
       "      [ 1764/26438 07:26 < 1:44:07, 3.95 it/s, Epoch 0.07/1]\n",
       "    </div>\n",
       "    <table border=\"1\" class=\"dataframe\">\n",
       "  <thead>\n",
       " <tr style=\"text-align: left;\">\n",
       "      <th>Step</th>\n",
       "      <th>Training Loss</th>\n",
       "    </tr>\n",
       "  </thead>\n",
       "  <tbody>\n",
       "    <tr>\n",
       "      <td>500</td>\n",
       "      <td>0.741000</td>\n",
       "    </tr>\n",
       "    <tr>\n",
       "      <td>1000</td>\n",
       "      <td>0.272000</td>\n",
       "    </tr>\n",
       "    <tr>\n",
       "      <td>1500</td>\n",
       "      <td>0.211000</td>\n",
       "    </tr>\n",
       "  </tbody>\n",
       "</table><p>"
      ],
      "text/plain": [
       "<IPython.core.display.HTML object>"
      ]
     },
     "metadata": {},
     "output_type": "display_data"
    },
    {
     "name": "stderr",
     "output_type": "stream",
     "text": [
      "C:\\Users\\chait\\AppData\\Roaming\\Python\\Python312\\site-packages\\bitsandbytes\\autograd\\_functions.py:316: UserWarning: MatMul8bitLt: inputs will be cast from torch.float32 to float16 during quantization\n",
      "  warnings.warn(f\"MatMul8bitLt: inputs will be cast from {A.dtype} to float16 during quantization\")\n",
      "C:\\Users\\chait\\AppData\\Roaming\\Python\\Python312\\site-packages\\bitsandbytes\\autograd\\_functions.py:316: UserWarning: MatMul8bitLt: inputs will be cast from torch.float32 to float16 during quantization\n",
      "  warnings.warn(f\"MatMul8bitLt: inputs will be cast from {A.dtype} to float16 during quantization\")\n",
      "C:\\Users\\chait\\AppData\\Roaming\\Python\\Python312\\site-packages\\bitsandbytes\\autograd\\_functions.py:316: UserWarning: MatMul8bitLt: inputs will be cast from torch.float32 to float16 during quantization\n",
      "  warnings.warn(f\"MatMul8bitLt: inputs will be cast from {A.dtype} to float16 during quantization\")\n"
     ]
    }
   ],
   "source": [
    "import torch\n",
    "import pandas as pd\n",
    "from transformers import GPT2Tokenizer, GPT2ForSequenceClassification, Trainer, TrainingArguments\n",
    "from peft import LoraConfig, get_peft_model, TaskType\n",
    "from sklearn.model_selection import train_test_split\n",
    "from datasets import Dataset\n",
    "    \n",
    "# Check if CUDA is available\n",
    "device = torch.device(\"cuda\" if torch.cuda.is_available() else \"cpu\")\n",
    "print(f\"Using device: {device}\")\n",
    "\n",
    "# Train and test splitting the data\n",
    "train_df,test_df=train_test_split(df1,test_size=0.2,random_state=42)\n",
    "train_df=train_df.rename(columns={\"labels\":\"label\"})\n",
    "test_df=test_df.rename(columns={\"labels\":\"label\"})\n",
    "\n",
    "train_dataset = Dataset.from_pandas(train_df)\n",
    "test_dataset = Dataset.from_pandas(test_df)\n",
    "\n",
    "# Tokenizer\n",
    "tokenizer = GPT2Tokenizer.from_pretrained(\"gpt2\")\n",
    "if tokenizer.pad_token is None:\n",
    "    tokenizer.pad_token = tokenizer.eos_token  # Set pad_token to eos_token if not defined\n",
    "\n",
    "# Print padding token to verify\n",
    "print(f\"Padding Token: {tokenizer.pad_token}\")\n",
    "\n",
    "# Preprocessing function\n",
    "def preprocess_function(examples):\n",
    "    return tokenizer(examples['text'], padding=True, truncation=True, max_length=256)\n",
    "\n",
    "# # Apply preprocessing\n",
    "# encoded_dataset = dataset.map(preprocess_function)\n",
    "# encoded_dataset = encoded_dataset.rename_column(\"label\", \"labels\")  # Rename 'label' to 'labels'\n",
    "\n",
    "train_dataset=train_dataset.map(preprocess_function)\n",
    "test_dataset=test_dataset.map(preprocess_function)\n",
    "\n",
    "train_dataset.set_format(type='torch', columns=['input_ids', 'attention_mask', 'label'])\n",
    "test_dataset.set_format(type='torch', columns=['input_ids', 'attention_mask', 'label'])\n",
    "\n",
    "# Load GPT-2 model for sequence classification with 8-bit quantization\n",
    "gpt2_model = GPT2ForSequenceClassification.from_pretrained(\n",
    "    \"gpt2\",\n",
    "    num_labels=2,\n",
    "    load_in_8bit=True,  # Enable 8-bit quantization\n",
    "    torch_dtype=torch.float32  # Load model in float32\n",
    ")\n",
    "\n",
    "# Ensure all model parameters are in float32 (this might not be necessary with 8-bit)\n",
    "for param in gpt2_model.parameters():\n",
    "    param.data = param.data.to(torch.float32)\n",
    "\n",
    "# Configure QLoRA with LoRAConfig\n",
    "lora_config = LoraConfig(\n",
    "    task_type=TaskType.SEQ_CLS,  # Sequence classification\n",
    "    inference_mode=False,        # Fine-tuning mode\n",
    "    r=8,                        # Rank (adjust based on your needs)\n",
    "    lora_alpha=16,               # Scaling factor\n",
    "    lora_dropout=0,            # Dropout for LoRA layers\n",
    "    target_modules=[\"attn.c_attn\"]  # Target GPT-2 attention layers for low-rank adaptation\n",
    ")\n",
    "\n",
    "# Apply QLoRA to the GPT-2 model\n",
    "model = get_peft_model(gpt2_model, lora_config)\n",
    "\n",
    "model.to(device)\n",
    "\n",
    "def compute_metrics(p):\n",
    "    preds = p.predictions.argmax(-1)  # Get the predicted class\n",
    "    labels = p.label_ids  # Get the true labels\n",
    "    accuracy = accuracy_score(labels, preds)  # Calculate accuracy\n",
    "    f1 = f1_score(labels, preds, average='weighted')  # Calculate F1 score\n",
    "    return {\n",
    "        'accuracy': accuracy,\n",
    "        'f1': f1,\n",
    "    }\n",
    "# Set up training arguments without logging configuration\n",
    "training_args = TrainingArguments(\n",
    "    output_dir='./results',            \n",
    "    per_device_train_batch_size=1,     \n",
    "    num_train_epochs=1,                \n",
    "    weight_decay=0.05,                 \n",
    "    fp16=True,                         # Mixed-precision training (useful for RTX 3050)\n",
    "    gradient_accumulation_steps=2,     # Accumulate gradients (reduce memory load)\n",
    "    optim=\"adamw_torch\",               # Use Adam optimizer with PyTorch backend\n",
    ")\n",
    "\n",
    "trainer = Trainer(\n",
    "    model=model,\n",
    "    args=training_args,\n",
    "    train_dataset=train_dataset,\n",
    "    eval_dataset=test_dataset,\n",
    "    tokenizer=tokenizer,\n",
    "    compute_metrics=compute_metrics,\n",
    ")\n",
    "\n",
    "# Start training\n",
    "trainer.train()"
   ]
  },
  {
   "cell_type": "code",
   "execution_count": 22,
   "metadata": {},
   "outputs": [],
   "source": [
    "# import torch\n",
    "# import torch.nn.functional as F  # Import functional for softmax\n",
    "\n",
    "# # Assuming you have the fine-tuned model in memory\n",
    "# # (model, tokenizer, and device are already defined)\n",
    "\n",
    "# # Define a function for prediction\n",
    "# def predict(text):\n",
    "#     # Preprocess the input text\n",
    "#     inputs = tokenizer(text, padding=True, truncation=True, max_length=256, return_tensors=\"pt\")\n",
    "    \n",
    "#     # Move inputs to the same device as the model\n",
    "#     inputs = {key: value.to(device) for key, value in inputs.items()}\n",
    "    \n",
    "#     # Perform inference\n",
    "#     with torch.no_grad():\n",
    "#         outputs = model(**inputs)\n",
    "    \n",
    "#     # Get the logits\n",
    "#     logits = outputs.logits\n",
    "    \n",
    "#     # Calculate probabilities using softmax\n",
    "#     probabilities = F.softmax(logits, dim=-1)  # Apply softmax to logits\n",
    "    \n",
    "#     # Ensure the probabilities sum to 1\n",
    "#     sum_probabilities = probabilities.sum().item()\n",
    "#     assert abs(sum_probabilities - 1.0) < 1e-5, f\"Probabilities sum to {sum_probabilities}, which is not 1.0\"\n",
    "\n",
    "#     # Get the predicted class index\n",
    "#     predicted_class = torch.argmax(probabilities, dim=-1).item()  # Get the predicted class index\n",
    "    \n",
    "#     # Convert probabilities to a dictionary for better readability\n",
    "#     probabilities_dict = {f'Class {i}': prob.item() * 100 for i, prob in enumerate(probabilities[0])}\n",
    "    \n",
    "#     return predicted_class, probabilities_dict\n",
    "\n",
    "# # Example usage\n",
    "# new_text = ''' '''\n",
    "# predicted_class, probabilities = predict(new_text)\n",
    "# print(f\"Predicted class: {predicted_class}\")\n",
    "# print(f\"Probabilities: {probabilities}\")"
   ]
  },
  {
   "cell_type": "code",
   "execution_count": null,
   "metadata": {},
   "outputs": [],
   "source": []
  }
 ],
 "metadata": {
  "kernelspec": {
   "display_name": "Python 3 (ipykernel)",
   "language": "python",
   "name": "python3"
  },
  "language_info": {
   "codemirror_mode": {
    "name": "ipython",
    "version": 3
   },
   "file_extension": ".py",
   "mimetype": "text/x-python",
   "name": "python",
   "nbconvert_exporter": "python",
   "pygments_lexer": "ipython3",
   "version": "3.12.3"
  }
 },
 "nbformat": 4,
 "nbformat_minor": 4
}
